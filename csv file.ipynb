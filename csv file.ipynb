{
 "cells": [
  {
   "cell_type": "code",
   "execution_count": 1,
   "id": "cb41803e",
   "metadata": {},
   "outputs": [
    {
     "name": "stdout",
     "output_type": "stream",
     "text": [
      "Enter student info for student #1 in the following format (Name Age Contact Email: somesh 20 4444 abc@abc.com\n",
      "Entered info : somesh 20 4444 abc@abc.com\n",
      "Entered split up information is ['somesh', '20', '4444', 'abc@abc.com']\n",
      "\n",
      " The entered info is \n",
      "Name : somesh \n",
      "Age : 20 \n",
      "Contact : 4444 \n",
      "Email : abc@abc.com\n",
      "Is the entered info correct (yes/no) :yes\n",
      "Enter yes/no if you want to enter info for another student : no\n"
     ]
    }
   ],
   "source": [
    "import csv\n",
    "def write_csv(info_list):\n",
    "    with open ('stud_info.csv','a',newline='') as csv_file:\n",
    "        writer = csv.writer(csv_file)\n",
    "        \n",
    "        if csv_file.tell()==0:\n",
    "            writer.writerow([\"Name\",\"Age\",\"Contact\",\"Email\"])\n",
    "        writer.writerow(info_list)\n",
    "        \n",
    "if __name__ == '__main__':\n",
    "    condition = True\n",
    "    stud_num  = 1\n",
    "    \n",
    "    while(condition):\n",
    "        stud_info = input(\"Enter student info for student #{} in the following format (Name Age Contact Email: \".format(stud_num))\n",
    "        print(\"Entered info : \"+stud_info) \n",
    "        \n",
    "        #split\n",
    "        \n",
    "        stud_info_list = stud_info.split(' ')\n",
    "        print(\"Entered split up information is \" +str(stud_info_list))\n",
    "        \n",
    "        print(\"\\n The entered info is \\nName : {} \\nAge : {} \\nContact : {} \\nEmail : {}\".format(stud_info_list[0],stud_info_list[1],stud_info_list[2],stud_info_list[3]))\n",
    "        choice = input(\"Is the entered info correct (yes/no) :\")\n",
    "        if choice == \"yes\":\n",
    "            write_csv(stud_info_list)\n",
    "            condition_check = input(\"Enter yes/no if you want to enter info for another student : \")\n",
    "            if condition_check == \"yes\":\n",
    "                condition = True\n",
    "                stud_num  = stud_num + 1\n",
    "            elif condition_check == \"no\":\n",
    "                condition = False\n",
    "        elif choice == \"no\":\n",
    "            print(\"\\n Please re-enter the values!\")"
   ]
  },
  {
   "cell_type": "code",
   "execution_count": null,
   "id": "0bffd2ff",
   "metadata": {},
   "outputs": [],
   "source": []
  }
 ],
 "metadata": {
  "kernelspec": {
   "display_name": "Python 3",
   "language": "python",
   "name": "python3"
  },
  "language_info": {
   "codemirror_mode": {
    "name": "ipython",
    "version": 3
   },
   "file_extension": ".py",
   "mimetype": "text/x-python",
   "name": "python",
   "nbconvert_exporter": "python",
   "pygments_lexer": "ipython3",
   "version": "3.7.3"
  }
 },
 "nbformat": 4,
 "nbformat_minor": 5
}
